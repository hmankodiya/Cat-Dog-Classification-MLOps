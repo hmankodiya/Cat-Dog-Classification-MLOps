{
 "cells": [
  {
   "cell_type": "code",
   "execution_count": 1,
   "metadata": {},
   "outputs": [],
   "source": [
    "import torch\n",
    "import numpy as np\n",
    "import matplotlib.pyplot as plt\n",
    "import tqdm\n",
    "from torch.utils.data import random_split,DataLoader\n",
    "from torchvision.datasets import ImageFolder\n",
    "import torchvision.transforms as transforms\n",
    "import gc\n",
    "import torchmetrics"
   ]
  },
  {
   "cell_type": "code",
   "execution_count": 3,
   "metadata": {},
   "outputs": [],
   "source": [
    "class Config:\n",
    "    IMAGE_SIZE   = (224,224)\n",
    "    TRAIN_FOLDER = './cat-dog/training_set/'\n",
    "    TEST_FOLDER  = './cat-dog/test_set/'\n",
    "    DEVICE       = \"cuda:0\" if torch.cuda.is_available() else \"cpu\"\n",
    "    SPLIT        = (0.7,0.3)\n",
    "    TRANSFORMS   =  transforms.Compose([transforms.Resize(size=IMAGE_SIZE),\n",
    "                                       transforms.ToTensor()])\n",
    "    BATCH_SIZE   = 5\n",
    "    MODEL_DIR    = 'Pytorch/predefined/'\n",
    "\n",
    "    torch.hub.set_dir(MODEL_DIR)    "
   ]
  },
  {
   "cell_type": "code",
   "execution_count": 13,
   "metadata": {},
   "outputs": [],
   "source": [
    "class TrainTestLoader:\n",
    "    def __init__(self):\n",
    "        \"\"\" DataLoader Class \"\"\"\n",
    "        pass\n",
    "    def get_data(self, data_folder, split_ratio=Config.SPLIT,\n",
    "                 split=True, batch_size=Config.BATCH_SIZE,\n",
    "                 transforms=Config.TRANSFORMS):\n",
    "        if split:\n",
    "            \"\"\" Call method for quick data loading \"\"\"\n",
    "            self.train = ImageFolder(data_folder,transform=transforms)\n",
    "            self.batch_size = batch_size\n",
    "            self.split_ratio = split_ratio\n",
    "            tr,ts = int(len(self.train)*split_ratio[0]),len(self.train)-int(len(self.train)*split_ratio[0])\n",
    "            train_ds,val_ds = random_split(self.train, [tr,ts])\n",
    "            self.train_loader = DataLoader(train_ds, batch_size=batch_size, shuffle=True)\n",
    "            self.val_loader   = DataLoader(val_ds, batch_size=batch_size, shuffle=True)\n",
    "            return self.train_loader,self.val_loader\n",
    "        else:\n",
    "            self.test = ImageFolder(data_folder,transform=transforms)\n",
    "            self.test_loader = DataLoader(self.test)\n",
    "            return self.test_loader\n",
    "dl = TrainTestLoader()\n",
    "train_loader,val_loader = dl.get_data(Config.TRAIN_FOLDER)\n",
    "test_loader = dl.get_data(Config.TEST_FOLDER,split=False)"
   ]
  },
  {
   "cell_type": "markdown",
   "metadata": {},
   "source": [
    "# Loading and Modifying Resnet"
   ]
  },
  {
   "cell_type": "code",
   "execution_count": 29,
   "metadata": {},
   "outputs": [
    {
     "name": "stderr",
     "output_type": "stream",
     "text": [
      "Using cache found in Pytorch/predefined/pytorch_vision_v0.10.0\n"
     ]
    }
   ],
   "source": [
    "gc.collect()\n",
    "resnet    = torch.hub.load('pytorch/vision:v0.10.0','resnet18', pretrained=False)\n",
    "num_ftrs  = resnet.fc.in_features\n",
    "resnet.fc = torch.nn.Linear(num_ftrs,1)\n",
    "resnet    = resnet.to('cuda')"
   ]
  },
  {
   "cell_type": "markdown",
   "metadata": {},
   "source": [
    "# Attaching Model"
   ]
  },
  {
   "cell_type": "code",
   "execution_count": 50,
   "metadata": {},
   "outputs": [],
   "source": [
    "class ModelFinal(torch.nn.Module):\n",
    "    def __init__(self):\n",
    "        super().__init__()\n",
    "    def make(self, resnet):\n",
    "        self.resnet = resnet\n",
    "    def train(self, X_cuda, y_cuda):\n",
    "        out = self(X_cuda)\n",
    "        return torch.nn.functional.binary_cross_entropy(out,y_cuda)\n",
    "    def fit(self, train_loader, epochs=1, lr=0.001):\n",
    "        opt = torch.optim.Adam(self.parameters(),lr=lr)\n",
    "        for i in range(epochs):\n",
    "            iterator_loader = tqdm.tqdm(train_loader, desc='Batch', total=1121)\n",
    "            for batch in iterator_loader:\n",
    "                X_cuda = batch[0].to(dtype=torch.float32, device=Config.DEVICE)\n",
    "                y_cuda = batch[1].to(dtype=torch.float32, device=Config.DEVICE).unsqueeze(1)\n",
    "                loss = self.train(X_cuda, y_cuda)\n",
    "                loss.backward()\n",
    "                opt.step()\n",
    "                opt.zero_grad()\n",
    "                torch.cuda.empty_cache()\n",
    "            print()\n",
    "            gc.collect()\n",
    "    # @property\n",
    "    # def device(self):\n",
    "    #     return self.get_device()\n",
    "    def forward(self, X):\n",
    "        model_output = self.resnet(X)\n",
    "        softmax_output = torch.nn.Sigmoid()(model_output)\n",
    "        return softmax_output\n",
    "    def predict(self,X):\n",
    "        # self.eval()\n",
    "        with torch.no_grad():\n",
    "            return self(X)"
   ]
  },
  {
   "cell_type": "code",
   "execution_count": 51,
   "metadata": {},
   "outputs": [
    {
     "data": {
      "text/plain": [
       "1971"
      ]
     },
     "execution_count": 51,
     "metadata": {},
     "output_type": "execute_result"
    }
   ],
   "source": [
    "del model_attached\n",
    "gc.collect()"
   ]
  },
  {
   "cell_type": "code",
   "execution_count": 52,
   "metadata": {},
   "outputs": [],
   "source": [
    "model_attached = ModelFinal()\n",
    "model_attached.make(resnet=resnet)"
   ]
  },
  {
   "cell_type": "code",
   "execution_count": 53,
   "metadata": {},
   "outputs": [
    {
     "name": "stderr",
     "output_type": "stream",
     "text": [
      "Batch: 100%|████████████████████████████████| 1121/1121 [02:40<00:00,  6.99it/s]"
     ]
    },
    {
     "name": "stdout",
     "output_type": "stream",
     "text": [
      "\n"
     ]
    },
    {
     "name": "stderr",
     "output_type": "stream",
     "text": [
      "\n"
     ]
    }
   ],
   "source": [
    "model_attached.fit(train_loader=train_loader)"
   ]
  },
  {
   "cell_type": "code",
   "execution_count": 54,
   "metadata": {},
   "outputs": [],
   "source": [
    "for x,y in val_loader:\n",
    "    break"
   ]
  },
  {
   "cell_type": "code",
   "execution_count": 55,
   "metadata": {},
   "outputs": [
    {
     "data": {
      "text/plain": [
       "torch.Size([5, 3, 224, 224])"
      ]
     },
     "execution_count": 55,
     "metadata": {},
     "output_type": "execute_result"
    }
   ],
   "source": [
    "x.shape"
   ]
  },
  {
   "cell_type": "code",
   "execution_count": 56,
   "metadata": {},
   "outputs": [
    {
     "data": {
      "text/plain": [
       "device(type='cpu')"
      ]
     },
     "execution_count": 56,
     "metadata": {},
     "output_type": "execute_result"
    }
   ],
   "source": [
    "x.device"
   ]
  },
  {
   "cell_type": "code",
   "execution_count": 57,
   "metadata": {},
   "outputs": [],
   "source": [
    "y_pred = model_attached.predict(x.to(device=Config.DEVICE))"
   ]
  },
  {
   "cell_type": "code",
   "execution_count": 58,
   "metadata": {},
   "outputs": [
    {
     "data": {
      "text/plain": [
       "torch.Size([5, 1])"
      ]
     },
     "execution_count": 58,
     "metadata": {},
     "output_type": "execute_result"
    }
   ],
   "source": [
    "y_pred.shape"
   ]
  },
  {
   "cell_type": "code",
   "execution_count": 59,
   "metadata": {},
   "outputs": [
    {
     "data": {
      "text/plain": [
       "tensor([[0.4551],\n",
       "        [0.4991],\n",
       "        [0.4903],\n",
       "        [0.5212],\n",
       "        [0.5168]], device='cuda:0')"
      ]
     },
     "execution_count": 59,
     "metadata": {},
     "output_type": "execute_result"
    }
   ],
   "source": [
    "y_pred"
   ]
  }
 ],
 "metadata": {
  "interpreter": {
   "hash": "5e269198fab4eb2ea6fe7c886c38b87b334869f0501ab924e1d16d60aeba5d23"
  },
  "kernelspec": {
   "display_name": "Python 3 (ipykernel)",
   "language": "python",
   "name": "python3"
  },
  "language_info": {
   "codemirror_mode": {
    "name": "ipython",
    "version": 3
   },
   "file_extension": ".py",
   "mimetype": "text/x-python",
   "name": "python",
   "nbconvert_exporter": "python",
   "pygments_lexer": "ipython3",
   "version": "3.9.12"
  },
  "orig_nbformat": 4
 },
 "nbformat": 4,
 "nbformat_minor": 2
}
